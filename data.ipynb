{
 "cells": [
  {
   "cell_type": "markdown",
   "metadata": {},
   "source": [
    "# Data preprocessing"
   ]
  },
  {
   "cell_type": "markdown",
   "metadata": {},
   "source": [
    "## Load data"
   ]
  },
  {
   "cell_type": "code",
   "execution_count": 1,
   "metadata": {},
   "outputs": [
    {
     "name": "stdout",
     "output_type": "stream",
     "text": [
      "('Total number of interactions:', 420534)\n",
      "('Total number of proteins:', 17185)\n"
     ]
    }
   ],
   "source": [
    "import gzip\n",
    "interactions = {}\n",
    "data = []\n",
    "# Load data\n",
    "org_id = '9606' # Change to 9606 for Human\n",
    "\n",
    "with gzip.open('data/9606.protein.links.v11.0.txt.gz', 'rt') as f:\n",
    "    next(f) # Skip header\n",
    "    for line in f:\n",
    "        p1, p2, score = line.strip().split()\n",
    "        if float(score) < 700: # Filter high confidence interactions\n",
    "            continue\n",
    "        if p1 not in interactions:\n",
    "            interactions[p1] = set()\n",
    "        if p2 not in interactions:\n",
    "            interactions[p2] = set()\n",
    "        if p2 not in interactions[p1]:\n",
    "            interactions[p1].add(p2)\n",
    "            interactions[p2].add(p1)\n",
    "            data.append((p1, p2))\n",
    "\n",
    "print('Total number of interactions:', len(data))\n",
    "print('Total number of proteins:', len(interactions.keys()))\n"
   ]
  },
  {
   "cell_type": "markdown",
   "metadata": {},
   "source": [
    "## Split training, validation and testing data\n"
   ]
  },
  {
   "cell_type": "code",
   "execution_count": 2,
   "metadata": {},
   "outputs": [
    {
     "name": "stdout",
     "output_type": "stream",
     "text": [
      "('Number of training interactions:', 269143)\n",
      "('Number of validation interactions:', 67285)\n",
      "('Number of testing interactions:', 84106)\n"
     ]
    }
   ],
   "source": [
    "import numpy as np\n",
    "import math\n",
    "\n",
    "np.random.seed(seed=0) # Fix random seed for reproducibility\n",
    "np.random.shuffle(data)\n",
    "train_n = int(math.ceil(len(data) * 0.8))\n",
    "valid_n = int(math.ceil(train_n * 0.8))\n",
    "train_data = data[:valid_n]\n",
    "valid_data = data[valid_n:train_n]\n",
    "test_data = data[train_n:]\n",
    "print('Number of training interactions:', len(train_data))\n",
    "print('Number of validation interactions:', len(valid_data))\n",
    "print('Number of testing interactions:', len(test_data))"
   ]
  },
  {
   "cell_type": "markdown",
   "metadata": {},
   "source": [
    "## Save the data"
   ]
  },
  {
   "cell_type": "code",
   "execution_count": 3,
   "metadata": {},
   "outputs": [],
   "source": [
    "def save(filename, data):\n",
    "    with open(filename, 'w') as f:\n",
    "        for p1, p2 in data:\n",
    "            f.write('{0}\\t{1}\\n'.format(p1, p2))\n",
    "            f.write('{0}\\t{1}\\n'.format(p2, p1))\n",
    "\n",
    "save('data/train/9606.protein.links.v11.0.txt', train_data)\n",
    "save('data/valid/9606.protein.links.v11.0.txt', valid_data)\n",
    "save('data/test/9606.protein.links.v11.0.txt', test_data)"
   ]
  },
  {
   "cell_type": "markdown",
   "metadata": {},
   "source": [
    "## Generate negative interactions"
   ]
  },
  {
   "cell_type": "code",
   "execution_count": 4,
   "metadata": {},
   "outputs": [
    {
     "ename": "KeyboardInterrupt",
     "evalue": "",
     "output_type": "error",
     "traceback": [
      "\u001b[0;31m---------------------------------------------------------------------------\u001b[0m",
      "\u001b[0;31mKeyboardInterrupt\u001b[0m                         Traceback (most recent call last)",
      "\u001b[0;32m<ipython-input-4-3dbcdd1a728a>\u001b[0m in \u001b[0;36m<module>\u001b[0;34m()\u001b[0m\n\u001b[1;32m      9\u001b[0m         \u001b[0mprot1\u001b[0m\u001b[0;34m=\u001b[0m \u001b[0ms\u001b[0m\u001b[0;34m[\u001b[0m\u001b[0;36m0\u001b[0m\u001b[0;34m]\u001b[0m\u001b[0;34m\u001b[0m\u001b[0m\n\u001b[1;32m     10\u001b[0m         \u001b[0mprot2\u001b[0m\u001b[0;34m=\u001b[0m \u001b[0ms\u001b[0m\u001b[0;34m[\u001b[0m\u001b[0;36m1\u001b[0m\u001b[0;34m]\u001b[0m\u001b[0;34m\u001b[0m\u001b[0m\n\u001b[0;32m---> 11\u001b[0;31m         \u001b[0;32mif\u001b[0m \u001b[0;34m(\u001b[0m\u001b[0mprot1\u001b[0m\u001b[0;34m,\u001b[0m\u001b[0mprot2\u001b[0m\u001b[0;34m)\u001b[0m \u001b[0;32min\u001b[0m \u001b[0mnegatives\u001b[0m \u001b[0;32mor\u001b[0m \u001b[0;34m(\u001b[0m\u001b[0mprot2\u001b[0m\u001b[0;34m,\u001b[0m\u001b[0mprot1\u001b[0m\u001b[0;34m)\u001b[0m \u001b[0;32min\u001b[0m \u001b[0mnegatives\u001b[0m \u001b[0;34m:\u001b[0m\u001b[0;34m\u001b[0m\u001b[0m\n\u001b[0m\u001b[1;32m     12\u001b[0m                  \u001b[0;32mcontinue\u001b[0m\u001b[0;34m\u001b[0m\u001b[0m\n\u001b[1;32m     13\u001b[0m         \u001b[0;32mif\u001b[0m \u001b[0mprot1\u001b[0m \u001b[0;32mnot\u001b[0m \u001b[0;32min\u001b[0m \u001b[0minteractions\u001b[0m\u001b[0;34m[\u001b[0m\u001b[0mprot2\u001b[0m\u001b[0;34m]\u001b[0m\u001b[0;34m:\u001b[0m\u001b[0;34m\u001b[0m\u001b[0m\n",
      "\u001b[0;31mKeyboardInterrupt\u001b[0m: "
     ]
    }
   ],
   "source": [
    "import random\n",
    "proteins =set ()\n",
    "negatives = []\n",
    "for (p1,p2) in data:\n",
    "        proteins.add(p1)\n",
    "        proteins.add(p2)\n",
    "while len(negatives)<len(data):\n",
    "        s = random.sample(proteins, 2)\n",
    "        prot1= s[0]\n",
    "        prot2= s[1]\n",
    "        if (prot1,prot2) in negatives or (prot2,prot1) in negatives :\n",
    "                 continue\n",
    "        if prot1 not in interactions[prot2]:\n",
    "                 negatives.append((prot1, prot2))\n",
    "print('Total number of negative interactions:', len(negatives))\n",
    "# Split negative data\n",
    "neg_train_data = negatives[:valid_n]\n",
    "neg_valid_data = negatives[valid_n:train_n]\n",
    "neg_test_data = negatives[train_n:]\n",
    "print('Number of negative training interactions:', len(neg_train_data))\n",
    "print('Number of negative validation interactions:', len(neg_valid_data))\n",
    "print('Number of negative testing interactions:', len(neg_test_data))\n",
    "# Save negative data \n",
    "save('data/train/9606.negative_interactions.txt', neg_train_data)\n",
    "save('data/valid/9606.negative_interactions.txt', neg_valid_data)\n",
    "save('data/test/9606.negative_interactions.txt', neg_test_data)\n",
    "print('done')"
   ]
  },
  {
   "cell_type": "markdown",
   "metadata": {},
   "source": [
    "## Preprocess GO annotations\n",
    "### Load id mapping between annotation database and StringDB IDs"
   ]
  },
  {
   "cell_type": "code",
   "execution_count": 5,
   "metadata": {},
   "outputs": [
    {
     "name": "stdout",
     "output_type": "stream",
     "text": [
      "('Loaded mappings', 83972)\n"
     ]
    }
   ],
   "source": [
    "mapping = {}\n",
    "source = {'4932': 'SGD_ID', '9606': 'Ensembl_UniProt_AC'} # mapping source\n",
    "\n",
    "with gzip.open('data/9606.protein.aliases.v11.0.txt.gz', 'rt') as f:\n",
    "    next(f) # Skip header\n",
    "    for line in f:\n",
    "        string_id, p_id, sources = line.strip().split('\\t')\n",
    "        if source[org_id] not in sources.split():\n",
    "            continue\n",
    "        if p_id not in mapping:\n",
    "            mapping[p_id] = set()\n",
    "        mapping[p_id].add(string_id)\n",
    "print('Loaded mappings', len(mapping))"
   ]
  },
  {
   "cell_type": "markdown",
   "metadata": {},
   "source": [
    "### Load annotations"
   ]
  },
  {
   "cell_type": "code",
   "execution_count": 41,
   "metadata": {},
   "outputs": [
    {
     "name": "stdout",
     "output_type": "stream",
     "text": [
      "12553\n",
      "('Number of annotations:', 291290)\n"
     ]
    }
   ],
   "source": [
    "gaf_files = {'4932': 'sgd.gaf', '9606': 'goa_human.gaf'}\n",
    "\n",
    "pmid_loo = {}\n",
    "with open('data/tripulate/pmid_assoc.txt') as f:\n",
    "    for line in f:\n",
    "        it = line.strip().split('\\t')\n",
    "        if not it[0] in pmid_loo:\n",
    "            pmid_loo[it[0]] = []\n",
    "        pmid_loo[it[0]].append(it[1].split('/')[-1].replace('_',':'))\n",
    "print(len(pmid_loo))\n",
    "\n",
    "annotations = set()\n",
    "with open('data/{0}'.format(gaf_files[org_id]), 'rt') as f:\n",
    "    for line in f:\n",
    "        if line.startswith('!'): # Skip header\n",
    "            continue\n",
    "        it = line.strip().split('\\t')\n",
    "        p_id = it[1]\n",
    "        go_id = it[4]\n",
    "        ev_ref = it[5]\n",
    "        if it[6] == 'IEA' or it[6] == 'ND': # Ignore predicted or no data annotations\n",
    "            continue\n",
    "        if p_id not in mapping: # Not in StringDB\n",
    "            continue\n",
    "        s_ids = mapping[p_id]\n",
    "        \n",
    "        for s_id in s_ids:\n",
    "            annotations.add((s_id, go_id))\n",
    "            if 'PMID' in ev_ref:\n",
    "                ev_ref = ev_ref.split(':')[1]\n",
    "                if ev_ref in pmid_loo:\n",
    "                    gloo_ids = pmid_loo[ev_ref]\n",
    "                    for g_id in gloo_ids:\n",
    "                        annotations.add((s_id, g_id))\n",
    "print('Number of annotations:', len(annotations))\n",
    "\n",
    "# Save annotations\n",
    "with open('data/train/9606.annotation.txt', 'w') as f:\n",
    "    for p_id, go_id in annotations:\n",
    "        f.write('{0}\\t{1}\\n'.format(p_id, go_id))"
   ]
  },
  {
   "cell_type": "markdown",
   "metadata": {},
   "source": [
    "## Generate Plain Training Data"
   ]
  },
  {
   "cell_type": "code",
   "execution_count": 43,
   "metadata": {},
   "outputs": [
    {
     "name": "stdout",
     "output_type": "stream",
     "text": [
      "830256 data/train/9606.plain.nt\r\n"
     ]
    }
   ],
   "source": [
    "import os\n",
    "\n",
    "tdf = open('data/train/9606.plain.nt', 'w')\n",
    "# Load GO\n",
    "with open('data/tripulate/pubmed_gloo.obo') as f:\n",
    "    tid = ''\n",
    "    for line in f:\n",
    "        line = line.strip()\n",
    "        if line.startswith('id:'):\n",
    "            tid = line[4:]\n",
    "        if not tid.startswith('GO:'):\n",
    "            continue\n",
    "        if line.startswith('is_a:'):\n",
    "            tid2 = line[6:].split(' ! ')[0]\n",
    "            tdf.write('<http://{0}> <http://is_a> <http://{1}> .\\n'.format(tid, tid2))\n",
    "        if line.startswith('relationship:'):\n",
    "            it = line[14:].split(' ! ')[0].split()\n",
    "            tdf.write('<http://{0}> <http://{1}> <http://{2}> .\\n'.format(tid, it[0], it[1]))\n",
    "\n",
    "# Load interactions\n",
    "with open('data/train/9606.protein.links.v11.0.txt') as f:\n",
    "    for line in f:\n",
    "        it = line.strip().split()\n",
    "        tdf.write('<http://{0}> <http://interacts> <http://{1}> .\\n'.format(it[0], it[1]))\n",
    "\n",
    "# Load annotations\n",
    "with open('data/train/9606.annotation.txt') as f:\n",
    "    for line in f:\n",
    "        it = line.strip().split()\n",
    "        tdf.write('<http://{0}> <http://hasFunction> <http://{1}> .\\n'.format(it[0], it[1]))\n",
    "\n",
    "tdf.close()\n",
    "if not os.path.exists('data/transe'):\n",
    "    os.makedirs('data/transe')\n",
    "! wc -l 'data/train/9606.plain.nt'"
   ]
  },
  {
   "cell_type": "markdown",
   "metadata": {},
   "source": [
    "## Generate Classes Training Data for ELEmbeddings"
   ]
  },
  {
   "cell_type": "code",
   "execution_count": 44,
   "metadata": {},
   "outputs": [
    {
     "name": "stdout",
     "output_type": "stream",
     "text": [
      "SLF4J: Failed to load class \"org.slf4j.impl.StaticLoggerBinder\".\r\n",
      "SLF4J: Defaulting to no-operation (NOP) logger implementation\r\n",
      "SLF4J: See http://www.slf4j.org/codes.html#StaticLoggerBinder for further details.\r\n"
     ]
    }
   ],
   "source": [
    "if not os.path.exists('data/elembeddings'):\n",
    "    os.makedirs('data/elembeddings')\n",
    "! groovy el-embeddings/GenerateTrainingDataClasses -i 'data/train/9606.protein.links.v11.0.txt' -a 'data/train/9606.annotation.txt' -o 'data/train/9606.classes.owl'\n"
   ]
  },
  {
   "cell_type": "markdown",
   "metadata": {},
   "source": [
    "### Normalize training data classes into four normal forms"
   ]
  },
  {
   "cell_type": "code",
   "execution_count": 45,
   "metadata": {},
   "outputs": [
    {
     "name": "stdout",
     "output_type": "stream",
     "text": [
      "SLF4J: Failed to load class \"org.slf4j.impl.StaticLoggerBinder\".\n",
      "SLF4J: Defaulting to no-operation (NOP) logger implementation\n",
      "SLF4J: See http://www.slf4j.org/codes.html#StaticLoggerBinder for further details.\n",
      "Ignoring SubObjectPropertyOf*(10 8):The translation map is incomplete. Item id was not found: '10'.\n",
      "Ignoring SubObjectPropertyOf*(11 13):The translation map is incomplete. Item id was not found: '11'.\n",
      "Ignoring SubObjectPropertyOf*(14 13):The translation map is incomplete. Item id was not found: '14'.\n"
     ]
    }
   ],
   "source": [
    "\n",
    "! groovy -cp el-embeddings/jar/jcel.jar el-embeddings/Normalizer.groovy -i 'data/train/9606.classes.owl' -o 'data/train/9606.classes-normalized.owl'\n",
    "\n"
   ]
  },
  {
   "cell_type": "markdown",
   "metadata": {},
   "source": [
    "## Generate RDF Representation of ELEmbeddings training data"
   ]
  },
  {
   "cell_type": "code",
   "execution_count": 20,
   "metadata": {},
   "outputs": [
    {
     "name": "stdout",
     "output_type": "stream",
     "text": [
      "rapper: Parsing URI file:///home/slater/machine-learning-with-ontologies/data/train/9606.classes.owl with parser rdfxml\n",
      "rapper: Serializing with serializer ntriples\n",
      "rapper: Parsing returned 4368800 triples\n"
     ]
    }
   ],
   "source": [
    "\n",
    "! rapper 'data/train/9606.classes.owl' -o ntriples > 'data/train/9606.classes-rdf.nt'\n"
   ]
  },
  {
   "cell_type": "markdown",
   "metadata": {
    "collapsed": true
   },
   "source": [
    "## Generate Onto/OPA2Vec-compatible associations"
   ]
  },
  {
   "cell_type": "code",
   "execution_count": 46,
   "metadata": {},
   "outputs": [],
   "source": [
    "import re\n",
    "\n",
    "gloo2iri = {}\n",
    "with open('data/tripulate/pmid_assoc.txt') as f:\n",
    "    for line in f:\n",
    "        it = line.strip().split('\\t')\n",
    "        tid = it[1].split('/')[-1].replace('_',':')\n",
    "        gloo2iri[tid] = '<'+it[1]+'>'\n",
    "\n",
    "\n",
    "# generate OPA2VEC compatible associations\n",
    "with open('data/train/9606.OPA_associations.txt', 'w') as f:\n",
    "    for p_id, go_id in annotations:\n",
    "        idd = go_id.split(':')\n",
    "        if go_id in gloo2iri:\n",
    "            f.write (str(p_id)+\" \\t\"+gloo2iri[go_id]+\"\\n\")\n",
    "        else:\n",
    "            f.write (str(p_id)+\" \\t\"+\"<http://purl.obolibrary.org/obo/GO_\"+str(idd[1])+\">\\n\")"
   ]
  },
  {
   "cell_type": "code",
   "execution_count": null,
   "metadata": {},
   "outputs": [],
   "source": []
  }
 ],
 "metadata": {
  "kernelspec": {
   "display_name": "Python 3",
   "language": "python",
   "name": "python3"
  },
  "language_info": {
   "codemirror_mode": {
    "name": "ipython",
    "version": 2
   },
   "file_extension": ".py",
   "mimetype": "text/x-python",
   "name": "python",
   "nbconvert_exporter": "python",
   "pygments_lexer": "ipython2",
   "version": "2.7.12"
  }
 },
 "nbformat": 4,
 "nbformat_minor": 2
}
